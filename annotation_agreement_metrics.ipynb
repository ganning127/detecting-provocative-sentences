{
  "cells": [
    {
      "cell_type": "code",
      "execution_count": null,
      "metadata": {
        "colab": {
          "base_uri": "https://localhost:8080/"
        },
        "id": "oceHm85Gn_0m",
        "outputId": "814b2e24-d174-4703-cbd1-211d2520fac8"
      },
      "outputs": [
        {
          "name": "stdout",
          "output_type": "stream",
          "text": [
            "Looking in indexes: https://pypi.org/simple, https://us-python.pkg.dev/colab-wheels/public/simple/\n",
            "Collecting krippendorff\n",
            "  Downloading krippendorff-0.5.1-py3-none-any.whl (17 kB)\n",
            "Requirement already satisfied: numpy in /usr/local/lib/python3.7/dist-packages (from krippendorff) (1.21.6)\n",
            "Installing collected packages: krippendorff\n",
            "Successfully installed krippendorff-0.5.1\n",
            "Looking in indexes: https://pypi.org/simple, https://us-python.pkg.dev/colab-wheels/public/simple/\n",
            "Requirement already satisfied: statsmodels in /usr/local/lib/python3.7/dist-packages (0.10.2)\n",
            "Requirement already satisfied: patsy>=0.4.0 in /usr/local/lib/python3.7/dist-packages (from statsmodels) (0.5.2)\n",
            "Requirement already satisfied: scipy>=0.18 in /usr/local/lib/python3.7/dist-packages (from statsmodels) (1.7.3)\n",
            "Requirement already satisfied: numpy>=1.11 in /usr/local/lib/python3.7/dist-packages (from statsmodels) (1.21.6)\n",
            "Requirement already satisfied: pandas>=0.19 in /usr/local/lib/python3.7/dist-packages (from statsmodels) (1.3.5)\n",
            "Requirement already satisfied: python-dateutil>=2.7.3 in /usr/local/lib/python3.7/dist-packages (from pandas>=0.19->statsmodels) (2.8.2)\n",
            "Requirement already satisfied: pytz>=2017.3 in /usr/local/lib/python3.7/dist-packages (from pandas>=0.19->statsmodels) (2022.1)\n",
            "Requirement already satisfied: six in /usr/local/lib/python3.7/dist-packages (from patsy>=0.4.0->statsmodels) (1.15.0)\n"
          ]
        }
      ],
      "source": [
        "!pip install --upgrade -q gspread\n",
        "!pip install krippendorff\n",
        "!pip install statsmodels"
      ]
    },
    {
      "cell_type": "code",
      "execution_count": null,
      "metadata": {
        "id": "4jCL5dcuoLma"
      },
      "outputs": [],
      "source": [
        "import gspread\n",
        "import pandas as pd\n",
        "from google.colab import auth\n",
        "auth.authenticate_user()\n",
        "from google.auth import default\n",
        "\n",
        "creds, _ = default()\n",
        "gc = gspread.authorize(creds)"
      ]
    },
    {
      "cell_type": "code",
      "execution_count": null,
      "metadata": {
        "id": "jRJK1YPQqXfx"
      },
      "outputs": [],
      "source": [
        "worksheet = gc.open('10k_same_sample_with_before_and_afters').worksheet(\"Combined\")\n",
        "rows = worksheet.get_all_values()\n",
        "df = pd.DataFrame.from_records(rows)\n",
        "df.columns=df.iloc[0]\n",
        "df = df.drop([0])"
      ]
    },
    {
      "cell_type": "code",
      "execution_count": null,
      "metadata": {
        "colab": {
          "base_uri": "https://localhost:8080/",
          "height": 302
        },
        "id": "nVFAAl_LMFiu",
        "outputId": "9ee91a13-0ee8-41f1-9a95-52aa383b73ac"
      },
      "outputs": [
        {
          "data": {
            "text/html": [
              "\n",
              "  <div id=\"df-26161120-e6c4-48ac-a7f1-bfc3625bf458\">\n",
              "    <div class=\"colab-df-container\">\n",
              "      <div>\n",
              "<style scoped>\n",
              "    .dataframe tbody tr th:only-of-type {\n",
              "        vertical-align: middle;\n",
              "    }\n",
              "\n",
              "    .dataframe tbody tr th {\n",
              "        vertical-align: top;\n",
              "    }\n",
              "\n",
              "    .dataframe thead th {\n",
              "        text-align: right;\n",
              "    }\n",
              "</style>\n",
              "<table border=\"1\" class=\"dataframe\">\n",
              "  <thead>\n",
              "    <tr style=\"text-align: right;\">\n",
              "      <th></th>\n",
              "      <th>index (matches with orig 25k sentences)</th>\n",
              "      <th>before</th>\n",
              "      <th>sentence</th>\n",
              "      <th>after</th>\n",
              "      <th>Ganning</th>\n",
              "      <th>Vaibhav</th>\n",
              "      <th>Final</th>\n",
              "      <th>Comments</th>\n",
              "    </tr>\n",
              "  </thead>\n",
              "  <tbody>\n",
              "    <tr>\n",
              "      <th>1</th>\n",
              "      <td>17110</td>\n",
              "      <td>Mohan Sarpanch Hearing ji's voice, he kept qui...</td>\n",
              "      <td>Only two days were spent.</td>\n",
              "      <td>Muslims from all the villages gathered and cam...</td>\n",
              "      <td>none</td>\n",
              "      <td>none</td>\n",
              "      <td>none</td>\n",
              "      <td></td>\n",
              "    </tr>\n",
              "    <tr>\n",
              "      <th>2</th>\n",
              "      <td>19915</td>\n",
              "      <td>This Islamic ideology calls for the killing of...</td>\n",
              "      <td>\"The truth is that Islam is not like other bel...</td>\n",
              "      <td>It is a religious version of fascist antagonis...</td>\n",
              "      <td>none</td>\n",
              "      <td>culture</td>\n",
              "      <td>culture</td>\n",
              "      <td></td>\n",
              "    </tr>\n",
              "    <tr>\n",
              "      <th>3</th>\n",
              "      <td>17972</td>\n",
              "      <td>When the defeated ruler Daud Khan asked for wa...</td>\n",
              "      <td>About Akbar's Chittor victory, Abul Fazl wrote...</td>\n",
              "      <td>Along with them, after the victory from mornin...</td>\n",
              "      <td>oppression</td>\n",
              "      <td>oppression</td>\n",
              "      <td>oppression</td>\n",
              "      <td></td>\n",
              "    </tr>\n",
              "    <tr>\n",
              "      <th>4</th>\n",
              "      <td>12626</td>\n",
              "      <td>You may remember that Mahmud Ghaznavi invaded ...</td>\n",
              "      <td>Similarly, many Muslim invaders had come to In...</td>\n",
              "      <td>\"Gajwa-e-Hind\" means conquering India and esta...</td>\n",
              "      <td>oppression</td>\n",
              "      <td>oppression</td>\n",
              "      <td>oppression</td>\n",
              "      <td></td>\n",
              "    </tr>\n",
              "    <tr>\n",
              "      <th>5</th>\n",
              "      <td>16108</td>\n",
              "      <td>Therefore, the flag on the Red Fort will swing...</td>\n",
              "      <td>In the Arab countries, Hindu women should be s...</td>\n",
              "      <td>The girls of the poor and middle of the house ...</td>\n",
              "      <td>action</td>\n",
              "      <td>oppression</td>\n",
              "      <td>action</td>\n",
              "      <td></td>\n",
              "    </tr>\n",
              "  </tbody>\n",
              "</table>\n",
              "</div>\n",
              "      <button class=\"colab-df-convert\" onclick=\"convertToInteractive('df-26161120-e6c4-48ac-a7f1-bfc3625bf458')\"\n",
              "              title=\"Convert this dataframe to an interactive table.\"\n",
              "              style=\"display:none;\">\n",
              "        \n",
              "  <svg xmlns=\"http://www.w3.org/2000/svg\" height=\"24px\"viewBox=\"0 0 24 24\"\n",
              "       width=\"24px\">\n",
              "    <path d=\"M0 0h24v24H0V0z\" fill=\"none\"/>\n",
              "    <path d=\"M18.56 5.44l.94 2.06.94-2.06 2.06-.94-2.06-.94-.94-2.06-.94 2.06-2.06.94zm-11 1L8.5 8.5l.94-2.06 2.06-.94-2.06-.94L8.5 2.5l-.94 2.06-2.06.94zm10 10l.94 2.06.94-2.06 2.06-.94-2.06-.94-.94-2.06-.94 2.06-2.06.94z\"/><path d=\"M17.41 7.96l-1.37-1.37c-.4-.4-.92-.59-1.43-.59-.52 0-1.04.2-1.43.59L10.3 9.45l-7.72 7.72c-.78.78-.78 2.05 0 2.83L4 21.41c.39.39.9.59 1.41.59.51 0 1.02-.2 1.41-.59l7.78-7.78 2.81-2.81c.8-.78.8-2.07 0-2.86zM5.41 20L4 18.59l7.72-7.72 1.47 1.35L5.41 20z\"/>\n",
              "  </svg>\n",
              "      </button>\n",
              "      \n",
              "  <style>\n",
              "    .colab-df-container {\n",
              "      display:flex;\n",
              "      flex-wrap:wrap;\n",
              "      gap: 12px;\n",
              "    }\n",
              "\n",
              "    .colab-df-convert {\n",
              "      background-color: #E8F0FE;\n",
              "      border: none;\n",
              "      border-radius: 50%;\n",
              "      cursor: pointer;\n",
              "      display: none;\n",
              "      fill: #1967D2;\n",
              "      height: 32px;\n",
              "      padding: 0 0 0 0;\n",
              "      width: 32px;\n",
              "    }\n",
              "\n",
              "    .colab-df-convert:hover {\n",
              "      background-color: #E2EBFA;\n",
              "      box-shadow: 0px 1px 2px rgba(60, 64, 67, 0.3), 0px 1px 3px 1px rgba(60, 64, 67, 0.15);\n",
              "      fill: #174EA6;\n",
              "    }\n",
              "\n",
              "    [theme=dark] .colab-df-convert {\n",
              "      background-color: #3B4455;\n",
              "      fill: #D2E3FC;\n",
              "    }\n",
              "\n",
              "    [theme=dark] .colab-df-convert:hover {\n",
              "      background-color: #434B5C;\n",
              "      box-shadow: 0px 1px 3px 1px rgba(0, 0, 0, 0.15);\n",
              "      filter: drop-shadow(0px 1px 2px rgba(0, 0, 0, 0.3));\n",
              "      fill: #FFFFFF;\n",
              "    }\n",
              "  </style>\n",
              "\n",
              "      <script>\n",
              "        const buttonEl =\n",
              "          document.querySelector('#df-26161120-e6c4-48ac-a7f1-bfc3625bf458 button.colab-df-convert');\n",
              "        buttonEl.style.display =\n",
              "          google.colab.kernel.accessAllowed ? 'block' : 'none';\n",
              "\n",
              "        async function convertToInteractive(key) {\n",
              "          const element = document.querySelector('#df-26161120-e6c4-48ac-a7f1-bfc3625bf458');\n",
              "          const dataTable =\n",
              "            await google.colab.kernel.invokeFunction('convertToInteractive',\n",
              "                                                     [key], {});\n",
              "          if (!dataTable) return;\n",
              "\n",
              "          const docLinkHtml = 'Like what you see? Visit the ' +\n",
              "            '<a target=\"_blank\" href=https://colab.research.google.com/notebooks/data_table.ipynb>data table notebook</a>'\n",
              "            + ' to learn more about interactive tables.';\n",
              "          element.innerHTML = '';\n",
              "          dataTable['output_type'] = 'display_data';\n",
              "          await google.colab.output.renderOutput(dataTable, element);\n",
              "          const docLink = document.createElement('div');\n",
              "          docLink.innerHTML = docLinkHtml;\n",
              "          element.appendChild(docLink);\n",
              "        }\n",
              "      </script>\n",
              "    </div>\n",
              "  </div>\n",
              "  "
            ],
            "text/plain": [
              "0 index (matches with orig 25k sentences)  \\\n",
              "1                                   17110   \n",
              "2                                   19915   \n",
              "3                                   17972   \n",
              "4                                   12626   \n",
              "5                                   16108   \n",
              "\n",
              "0                                             before  \\\n",
              "1  Mohan Sarpanch Hearing ji's voice, he kept qui...   \n",
              "2  This Islamic ideology calls for the killing of...   \n",
              "3  When the defeated ruler Daud Khan asked for wa...   \n",
              "4  You may remember that Mahmud Ghaznavi invaded ...   \n",
              "5  Therefore, the flag on the Red Fort will swing...   \n",
              "\n",
              "0                                           sentence  \\\n",
              "1                          Only two days were spent.   \n",
              "2  \"The truth is that Islam is not like other bel...   \n",
              "3  About Akbar's Chittor victory, Abul Fazl wrote...   \n",
              "4  Similarly, many Muslim invaders had come to In...   \n",
              "5  In the Arab countries, Hindu women should be s...   \n",
              "\n",
              "0                                              after     Ganning     Vaibhav  \\\n",
              "1  Muslims from all the villages gathered and cam...        none        none   \n",
              "2  It is a religious version of fascist antagonis...        none     culture   \n",
              "3  Along with them, after the victory from mornin...  oppression  oppression   \n",
              "4  \"Gajwa-e-Hind\" means conquering India and esta...  oppression  oppression   \n",
              "5  The girls of the poor and middle of the house ...      action  oppression   \n",
              "\n",
              "0       Final Comments  \n",
              "1        none           \n",
              "2     culture           \n",
              "3  oppression           \n",
              "4  oppression           \n",
              "5      action           "
            ]
          },
          "execution_count": 3,
          "metadata": {},
          "output_type": "execute_result"
        }
      ],
      "source": [
        "df.head()"
      ]
    },
    {
      "cell_type": "code",
      "execution_count": null,
      "metadata": {
        "colab": {
          "base_uri": "https://localhost:8080/"
        },
        "id": "2UAKZGl_MIE-",
        "outputId": "c3007c5f-87e3-474f-b2d0-018519a26ced"
      },
      "outputs": [
        {
          "data": {
            "text/plain": [
              "array(['none', 'culture', 'oppression', 'action'], dtype=object)"
            ]
          },
          "execution_count": 4,
          "metadata": {},
          "output_type": "execute_result"
        }
      ],
      "source": [
        "df.loc[df[\"Vaibhav\"] == \"\", \"Vaibhav\"] = \"none\"\n",
        "df[\"Vaibhav\"].unique()"
      ]
    },
    {
      "cell_type": "markdown",
      "metadata": {
        "id": "KNs7RpDRuoNF"
      },
      "source": [
        "## Cohen Kappa"
      ]
    },
    {
      "cell_type": "code",
      "execution_count": null,
      "metadata": {
        "id": "zl2Sd7PppWgv"
      },
      "outputs": [],
      "source": [
        "from sklearn.metrics import cohen_kappa_score\n",
        "\n",
        "def calculate_cohen_kappa(start, end):\n",
        "    df_use = df.iloc[list(range(start, end))]\n",
        "    # df_use = df_use.query('Vaibhav != \"\"')\n",
        "    a1 = df_use[\"Ganning\"]\n",
        "    a2 = df_use[\"Vaibhav\"]\n",
        "    print(\"Cohen Kappa for rows \" + str(start) + \"-\" + str(end) + \": \" + str(round(cohen_kappa_score(a1, a2), 2)))\n",
        "\n",
        "def calculate_num_differences(start, end):\n",
        "    df_use = df.iloc[list(range(start, end))]\n",
        "    # df_use = df_use.query('Vaibhav != \"\"')\n",
        "    num_diff = len(df_use.query('Ganning != Vaibhav'))\n",
        "    \n",
        "    print(\"Number of disagreements for rows \" + str(start) + \"-\" + str(end) + \": \" + str(num_diff))\n"
      ]
    },
    {
      "cell_type": "code",
      "execution_count": null,
      "metadata": {
        "colab": {
          "base_uri": "https://localhost:8080/"
        },
        "id": "39ctiDiLrJA9",
        "outputId": "83f4b73d-eb35-414f-fd4b-435110b945a7"
      },
      "outputs": [
        {
          "name": "stdout",
          "output_type": "stream",
          "text": [
            "Cohen Kappa for rows 0-100: 0.24\n"
          ]
        }
      ],
      "source": [
        "calculate_cohen_kappa(0, 100)\n",
        "# calculate_num_differences(0, 100)"
      ]
    },
    {
      "cell_type": "code",
      "execution_count": null,
      "metadata": {
        "colab": {
          "base_uri": "https://localhost:8080/"
        },
        "id": "oMiW-NpMpTcW",
        "outputId": "2b311062-2f85-45d6-8a9f-8c946ce3b028"
      },
      "outputs": [
        {
          "name": "stdout",
          "output_type": "stream",
          "text": [
            "Cohen Kappa for rows 100-200: 0.54\n",
            "Number of disagreements for rows 100-200: 28\n"
          ]
        }
      ],
      "source": [
        "calculate_cohen_kappa(100, 200)\n",
        "calculate_num_differences(100, 200)"
      ]
    },
    {
      "cell_type": "code",
      "execution_count": null,
      "metadata": {
        "colab": {
          "base_uri": "https://localhost:8080/"
        },
        "id": "B8Hcsf_AiFMX",
        "outputId": "9b802289-ead8-4f5b-e8ab-6e464d46e28c"
      },
      "outputs": [
        {
          "name": "stdout",
          "output_type": "stream",
          "text": [
            "Cohen Kappa for rows 200-300: 0.61\n",
            "Number of disagreements for rows 200-300: 24\n"
          ]
        }
      ],
      "source": [
        "calculate_cohen_kappa(200, 300)\n",
        "calculate_num_differences(200, 300)"
      ]
    },
    {
      "cell_type": "code",
      "execution_count": null,
      "metadata": {
        "colab": {
          "base_uri": "https://localhost:8080/"
        },
        "id": "uwqLXbmUv6Le",
        "outputId": "a828cf09-afff-48d0-fd6c-2fe87725ca6e"
      },
      "outputs": [
        {
          "name": "stdout",
          "output_type": "stream",
          "text": [
            "Cohen Kappa for rows 300-400: 0.56\n",
            "Number of disagreements for rows 300-400: 26\n"
          ]
        }
      ],
      "source": [
        "calculate_cohen_kappa(300, 400)\n",
        "calculate_num_differences(300, 400)"
      ]
    },
    {
      "cell_type": "code",
      "execution_count": null,
      "metadata": {
        "colab": {
          "base_uri": "https://localhost:8080/"
        },
        "id": "nZ00fzm3s3uo",
        "outputId": "eaed0bc8-88a5-42d9-c3c8-3f3f6a7f69b9"
      },
      "outputs": [
        {
          "name": "stdout",
          "output_type": "stream",
          "text": [
            "Cohen Kappa for rows 400-500: 0.71\n",
            "Number of disagreements for rows 400-500: 18\n"
          ]
        }
      ],
      "source": [
        "calculate_cohen_kappa(400, 500)\n",
        "calculate_num_differences(400, 500)"
      ]
    },
    {
      "cell_type": "code",
      "execution_count": null,
      "metadata": {
        "colab": {
          "base_uri": "https://localhost:8080/"
        },
        "id": "LmEY8ao3FWt-",
        "outputId": "b71fe819-5ddd-463b-ccad-c6cdca47e4b0"
      },
      "outputs": [
        {
          "name": "stdout",
          "output_type": "stream",
          "text": [
            "Cohen Kappa for rows 500-600: 0.68\n",
            "Number of disagreements for rows 500-600: 20\n"
          ]
        }
      ],
      "source": [
        "calculate_cohen_kappa(500, 600)\n",
        "calculate_num_differences(500, 600)"
      ]
    },
    {
      "cell_type": "code",
      "execution_count": null,
      "metadata": {
        "colab": {
          "base_uri": "https://localhost:8080/"
        },
        "id": "fkhc_V17QOsZ",
        "outputId": "02f1037a-0e4f-45e1-85eb-3a2a937b8e87"
      },
      "outputs": [
        {
          "name": "stdout",
          "output_type": "stream",
          "text": [
            "Cohen Kappa for rows 600-700: 0.73\n",
            "Number of disagreements for rows 600-700: 17\n"
          ]
        }
      ],
      "source": [
        "calculate_cohen_kappa(600, 700)\n",
        "calculate_num_differences(600, 700)"
      ]
    },
    {
      "cell_type": "code",
      "execution_count": null,
      "metadata": {
        "colab": {
          "base_uri": "https://localhost:8080/"
        },
        "id": "xvlzwD4jbjQA",
        "outputId": "22301893-fc89-4ca6-b86e-c647ac7ca273"
      },
      "outputs": [
        {
          "name": "stdout",
          "output_type": "stream",
          "text": [
            "Cohen Kappa for rows 700-800: 0.66\n",
            "Number of disagreements for rows 700-800: 22\n"
          ]
        }
      ],
      "source": [
        "calculate_cohen_kappa(700, 800)\n",
        "calculate_num_differences(700, 800)"
      ]
    },
    {
      "cell_type": "code",
      "execution_count": null,
      "metadata": {
        "colab": {
          "base_uri": "https://localhost:8080/"
        },
        "id": "lwHM6SBsmISw",
        "outputId": "811553a1-0748-40bb-ca7e-7fdfe80625a6"
      },
      "outputs": [
        {
          "name": "stdout",
          "output_type": "stream",
          "text": [
            "Cohen Kappa for rows 800-900: 0.83\n",
            "Number of disagreements for rows 800-900: 10\n"
          ]
        }
      ],
      "source": [
        "calculate_cohen_kappa(800, 900)\n",
        "calculate_num_differences(800, 900)"
      ]
    },
    {
      "cell_type": "code",
      "execution_count": null,
      "metadata": {
        "colab": {
          "base_uri": "https://localhost:8080/"
        },
        "id": "FU_ML27zUMox",
        "outputId": "45d2ef68-fa0e-4be1-d04e-51384d52ca9e"
      },
      "outputs": [
        {
          "name": "stdout",
          "output_type": "stream",
          "text": [
            "Cohen Kappa for rows 900-1000: 0.76\n",
            "Number of disagreements for rows 900-1000: 15\n"
          ]
        }
      ],
      "source": [
        "calculate_cohen_kappa(900, 1000)\n",
        "calculate_num_differences(900, 1000)"
      ]
    },
    {
      "cell_type": "code",
      "execution_count": null,
      "metadata": {
        "colab": {
          "base_uri": "https://localhost:8080/"
        },
        "id": "ZNviQF5jKuRN",
        "outputId": "c47f984c-cb17-4600-b606-cfee2ce952fc"
      },
      "outputs": [
        {
          "name": "stdout",
          "output_type": "stream",
          "text": [
            "Cohen Kappa for rows 0-400: 0.48\n",
            "Number of disagreements for rows 0-400: 130\n"
          ]
        }
      ],
      "source": [
        "# PHASE I\n",
        "calculate_cohen_kappa(0, 400)\n",
        "calculate_num_differences(0, 400)"
      ]
    },
    {
      "cell_type": "code",
      "execution_count": null,
      "metadata": {
        "colab": {
          "base_uri": "https://localhost:8080/"
        },
        "id": "7njlZYaUVhBF",
        "outputId": "529b331d-e35a-4d0f-9f07-7a250ca0a490"
      },
      "outputs": [
        {
          "name": "stdout",
          "output_type": "stream",
          "text": [
            "Cohen Kappa for rows 400-1000: 0.73\n",
            "Number of disagreements for rows 400-1000: 102\n"
          ]
        }
      ],
      "source": [
        "# PHASE II\n",
        "calculate_cohen_kappa(400, 1000)\n",
        "calculate_num_differences(400, 1000)"
      ]
    },
    {
      "cell_type": "code",
      "execution_count": null,
      "metadata": {
        "colab": {
          "base_uri": "https://localhost:8080/"
        },
        "id": "p6w8n_Sdstmr",
        "outputId": "b97a564e-0013-4494-954a-a04f0b7d4f18"
      },
      "outputs": [
        {
          "name": "stdout",
          "output_type": "stream",
          "text": [
            "Cohen Kappa for rows 401-700: 0.7\n",
            "Number of disagreements for rows 400-1000: 102\n"
          ]
        }
      ],
      "source": [
        "# PHASE II\n",
        "calculate_cohen_kappa(401, 700)\n",
        "calculate_num_differences(400, 1000)"
      ]
    },
    {
      "cell_type": "code",
      "execution_count": null,
      "metadata": {
        "colab": {
          "base_uri": "https://localhost:8080/"
        },
        "id": "FIKNbIOgswpv",
        "outputId": "07edc62a-23d8-40e3-a703-482050dfd58f"
      },
      "outputs": [
        {
          "name": "stdout",
          "output_type": "stream",
          "text": [
            "Cohen Kappa for rows 701-1000: 0.75\n",
            "Number of disagreements for rows 400-1000: 102\n"
          ]
        }
      ],
      "source": [
        "# PHASE II\n",
        "calculate_cohen_kappa(701, 1000)\n",
        "calculate_num_differences(400, 1000)"
      ]
    },
    {
      "cell_type": "markdown",
      "metadata": {
        "id": "Qw3mCsqAuqpc"
      },
      "source": [
        "## Krippendorff Alpha"
      ]
    },
    {
      "cell_type": "code",
      "execution_count": null,
      "metadata": {
        "id": "rvmbp4oSrHjW"
      },
      "outputs": [],
      "source": [
        "import krippendorff\n",
        "import numpy as np"
      ]
    },
    {
      "cell_type": "code",
      "execution_count": null,
      "metadata": {
        "id": "BAK0vhEmvDDM"
      },
      "outputs": [],
      "source": [
        "mapper = {\n",
        "    \"culture\": 0,\n",
        "    \"oppression\": 1,\n",
        "    \"action\": 2,\n",
        "    \"none\": 3,\n",
        "}"
      ]
    },
    {
      "cell_type": "code",
      "execution_count": null,
      "metadata": {
        "id": "S31kwAm9vmIU"
      },
      "outputs": [],
      "source": [
        "df_encoded = df.replace({\"Ganning\": mapper, \"Vaibhav\": mapper})"
      ]
    },
    {
      "cell_type": "code",
      "execution_count": null,
      "metadata": {
        "colab": {
          "base_uri": "https://localhost:8080/",
          "height": 112
        },
        "id": "XJbcrgGtvndK",
        "outputId": "a7193a7c-ee84-437d-9d52-212a08c9c5e7"
      },
      "outputs": [
        {
          "data": {
            "text/html": [
              "\n",
              "  <div id=\"df-2b7e54f6-71cf-4030-b873-526d58e873b8\">\n",
              "    <div class=\"colab-df-container\">\n",
              "      <div>\n",
              "<style scoped>\n",
              "    .dataframe tbody tr th:only-of-type {\n",
              "        vertical-align: middle;\n",
              "    }\n",
              "\n",
              "    .dataframe tbody tr th {\n",
              "        vertical-align: top;\n",
              "    }\n",
              "\n",
              "    .dataframe thead th {\n",
              "        text-align: right;\n",
              "    }\n",
              "</style>\n",
              "<table border=\"1\" class=\"dataframe\">\n",
              "  <thead>\n",
              "    <tr style=\"text-align: right;\">\n",
              "      <th></th>\n",
              "      <th>index (matches with orig 25k sentences)</th>\n",
              "      <th>before</th>\n",
              "      <th>sentence</th>\n",
              "      <th>after</th>\n",
              "      <th>Ganning</th>\n",
              "      <th>Vaibhav</th>\n",
              "      <th>Final</th>\n",
              "      <th>Comments</th>\n",
              "    </tr>\n",
              "  </thead>\n",
              "  <tbody>\n",
              "    <tr>\n",
              "      <th>1</th>\n",
              "      <td>17110</td>\n",
              "      <td>Mohan Sarpanch Hearing ji's voice, he kept qui...</td>\n",
              "      <td>Only two days were spent.</td>\n",
              "      <td>Muslims from all the villages gathered and cam...</td>\n",
              "      <td>3</td>\n",
              "      <td>3</td>\n",
              "      <td>none</td>\n",
              "      <td></td>\n",
              "    </tr>\n",
              "    <tr>\n",
              "      <th>2</th>\n",
              "      <td>19915</td>\n",
              "      <td>This Islamic ideology calls for the killing of...</td>\n",
              "      <td>\"The truth is that Islam is not like other bel...</td>\n",
              "      <td>It is a religious version of fascist antagonis...</td>\n",
              "      <td>3</td>\n",
              "      <td>0</td>\n",
              "      <td>culture</td>\n",
              "      <td></td>\n",
              "    </tr>\n",
              "  </tbody>\n",
              "</table>\n",
              "</div>\n",
              "      <button class=\"colab-df-convert\" onclick=\"convertToInteractive('df-2b7e54f6-71cf-4030-b873-526d58e873b8')\"\n",
              "              title=\"Convert this dataframe to an interactive table.\"\n",
              "              style=\"display:none;\">\n",
              "        \n",
              "  <svg xmlns=\"http://www.w3.org/2000/svg\" height=\"24px\"viewBox=\"0 0 24 24\"\n",
              "       width=\"24px\">\n",
              "    <path d=\"M0 0h24v24H0V0z\" fill=\"none\"/>\n",
              "    <path d=\"M18.56 5.44l.94 2.06.94-2.06 2.06-.94-2.06-.94-.94-2.06-.94 2.06-2.06.94zm-11 1L8.5 8.5l.94-2.06 2.06-.94-2.06-.94L8.5 2.5l-.94 2.06-2.06.94zm10 10l.94 2.06.94-2.06 2.06-.94-2.06-.94-.94-2.06-.94 2.06-2.06.94z\"/><path d=\"M17.41 7.96l-1.37-1.37c-.4-.4-.92-.59-1.43-.59-.52 0-1.04.2-1.43.59L10.3 9.45l-7.72 7.72c-.78.78-.78 2.05 0 2.83L4 21.41c.39.39.9.59 1.41.59.51 0 1.02-.2 1.41-.59l7.78-7.78 2.81-2.81c.8-.78.8-2.07 0-2.86zM5.41 20L4 18.59l7.72-7.72 1.47 1.35L5.41 20z\"/>\n",
              "  </svg>\n",
              "      </button>\n",
              "      \n",
              "  <style>\n",
              "    .colab-df-container {\n",
              "      display:flex;\n",
              "      flex-wrap:wrap;\n",
              "      gap: 12px;\n",
              "    }\n",
              "\n",
              "    .colab-df-convert {\n",
              "      background-color: #E8F0FE;\n",
              "      border: none;\n",
              "      border-radius: 50%;\n",
              "      cursor: pointer;\n",
              "      display: none;\n",
              "      fill: #1967D2;\n",
              "      height: 32px;\n",
              "      padding: 0 0 0 0;\n",
              "      width: 32px;\n",
              "    }\n",
              "\n",
              "    .colab-df-convert:hover {\n",
              "      background-color: #E2EBFA;\n",
              "      box-shadow: 0px 1px 2px rgba(60, 64, 67, 0.3), 0px 1px 3px 1px rgba(60, 64, 67, 0.15);\n",
              "      fill: #174EA6;\n",
              "    }\n",
              "\n",
              "    [theme=dark] .colab-df-convert {\n",
              "      background-color: #3B4455;\n",
              "      fill: #D2E3FC;\n",
              "    }\n",
              "\n",
              "    [theme=dark] .colab-df-convert:hover {\n",
              "      background-color: #434B5C;\n",
              "      box-shadow: 0px 1px 3px 1px rgba(0, 0, 0, 0.15);\n",
              "      filter: drop-shadow(0px 1px 2px rgba(0, 0, 0, 0.3));\n",
              "      fill: #FFFFFF;\n",
              "    }\n",
              "  </style>\n",
              "\n",
              "      <script>\n",
              "        const buttonEl =\n",
              "          document.querySelector('#df-2b7e54f6-71cf-4030-b873-526d58e873b8 button.colab-df-convert');\n",
              "        buttonEl.style.display =\n",
              "          google.colab.kernel.accessAllowed ? 'block' : 'none';\n",
              "\n",
              "        async function convertToInteractive(key) {\n",
              "          const element = document.querySelector('#df-2b7e54f6-71cf-4030-b873-526d58e873b8');\n",
              "          const dataTable =\n",
              "            await google.colab.kernel.invokeFunction('convertToInteractive',\n",
              "                                                     [key], {});\n",
              "          if (!dataTable) return;\n",
              "\n",
              "          const docLinkHtml = 'Like what you see? Visit the ' +\n",
              "            '<a target=\"_blank\" href=https://colab.research.google.com/notebooks/data_table.ipynb>data table notebook</a>'\n",
              "            + ' to learn more about interactive tables.';\n",
              "          element.innerHTML = '';\n",
              "          dataTable['output_type'] = 'display_data';\n",
              "          await google.colab.output.renderOutput(dataTable, element);\n",
              "          const docLink = document.createElement('div');\n",
              "          docLink.innerHTML = docLinkHtml;\n",
              "          element.appendChild(docLink);\n",
              "        }\n",
              "      </script>\n",
              "    </div>\n",
              "  </div>\n",
              "  "
            ],
            "text/plain": [
              "0 index (matches with orig 25k sentences)  \\\n",
              "1                                   17110   \n",
              "2                                   19915   \n",
              "\n",
              "0                                             before  \\\n",
              "1  Mohan Sarpanch Hearing ji's voice, he kept qui...   \n",
              "2  This Islamic ideology calls for the killing of...   \n",
              "\n",
              "0                                           sentence  \\\n",
              "1                          Only two days were spent.   \n",
              "2  \"The truth is that Islam is not like other bel...   \n",
              "\n",
              "0                                              after Ganning  Vaibhav  \\\n",
              "1  Muslims from all the villages gathered and cam...       3        3   \n",
              "2  It is a religious version of fascist antagonis...       3        0   \n",
              "\n",
              "0    Final Comments  \n",
              "1     none           \n",
              "2  culture           "
            ]
          },
          "execution_count": 17,
          "metadata": {},
          "output_type": "execute_result"
        }
      ],
      "source": [
        "df_encoded.head(2)"
      ]
    },
    {
      "cell_type": "code",
      "execution_count": null,
      "metadata": {
        "colab": {
          "base_uri": "https://localhost:8080/",
          "height": 554
        },
        "id": "qy48kTiwyWnG",
        "outputId": "2f00de82-528f-4845-fe54-b212245c7e1c"
      },
      "outputs": [
        {
          "data": {
            "text/html": [
              "\n",
              "  <div id=\"df-9ce52850-b2b7-4490-ade2-d15e3beb159b\">\n",
              "    <div class=\"colab-df-container\">\n",
              "      <div>\n",
              "<style scoped>\n",
              "    .dataframe tbody tr th:only-of-type {\n",
              "        vertical-align: middle;\n",
              "    }\n",
              "\n",
              "    .dataframe tbody tr th {\n",
              "        vertical-align: top;\n",
              "    }\n",
              "\n",
              "    .dataframe thead th {\n",
              "        text-align: right;\n",
              "    }\n",
              "</style>\n",
              "<table border=\"1\" class=\"dataframe\">\n",
              "  <thead>\n",
              "    <tr style=\"text-align: right;\">\n",
              "      <th></th>\n",
              "      <th>index (matches with orig 25k sentences)</th>\n",
              "      <th>before</th>\n",
              "      <th>sentence</th>\n",
              "      <th>after</th>\n",
              "      <th>Ganning</th>\n",
              "      <th>Vaibhav</th>\n",
              "      <th>Final</th>\n",
              "      <th>Comments</th>\n",
              "    </tr>\n",
              "  </thead>\n",
              "  <tbody>\n",
              "    <tr>\n",
              "      <th>1</th>\n",
              "      <td>17110</td>\n",
              "      <td>Mohan Sarpanch Hearing ji's voice, he kept qui...</td>\n",
              "      <td>Only two days were spent.</td>\n",
              "      <td>Muslims from all the villages gathered and cam...</td>\n",
              "      <td>3</td>\n",
              "      <td>3</td>\n",
              "      <td>none</td>\n",
              "      <td></td>\n",
              "    </tr>\n",
              "    <tr>\n",
              "      <th>2</th>\n",
              "      <td>19915</td>\n",
              "      <td>This Islamic ideology calls for the killing of...</td>\n",
              "      <td>\"The truth is that Islam is not like other bel...</td>\n",
              "      <td>It is a religious version of fascist antagonis...</td>\n",
              "      <td>3</td>\n",
              "      <td>0</td>\n",
              "      <td>culture</td>\n",
              "      <td></td>\n",
              "    </tr>\n",
              "    <tr>\n",
              "      <th>3</th>\n",
              "      <td>17972</td>\n",
              "      <td>When the defeated ruler Daud Khan asked for wa...</td>\n",
              "      <td>About Akbar's Chittor victory, Abul Fazl wrote...</td>\n",
              "      <td>Along with them, after the victory from mornin...</td>\n",
              "      <td>1</td>\n",
              "      <td>1</td>\n",
              "      <td>oppression</td>\n",
              "      <td></td>\n",
              "    </tr>\n",
              "    <tr>\n",
              "      <th>4</th>\n",
              "      <td>12626</td>\n",
              "      <td>You may remember that Mahmud Ghaznavi invaded ...</td>\n",
              "      <td>Similarly, many Muslim invaders had come to In...</td>\n",
              "      <td>\"Gajwa-e-Hind\" means conquering India and esta...</td>\n",
              "      <td>1</td>\n",
              "      <td>1</td>\n",
              "      <td>oppression</td>\n",
              "      <td></td>\n",
              "    </tr>\n",
              "    <tr>\n",
              "      <th>5</th>\n",
              "      <td>16108</td>\n",
              "      <td>Therefore, the flag on the Red Fort will swing...</td>\n",
              "      <td>In the Arab countries, Hindu women should be s...</td>\n",
              "      <td>The girls of the poor and middle of the house ...</td>\n",
              "      <td>2</td>\n",
              "      <td>1</td>\n",
              "      <td>action</td>\n",
              "      <td></td>\n",
              "    </tr>\n",
              "    <tr>\n",
              "      <th>...</th>\n",
              "      <td>...</td>\n",
              "      <td>...</td>\n",
              "      <td>...</td>\n",
              "      <td>...</td>\n",
              "      <td>...</td>\n",
              "      <td>...</td>\n",
              "      <td>...</td>\n",
              "      <td>...</td>\n",
              "    </tr>\n",
              "    <tr>\n",
              "      <th>595</th>\n",
              "      <td>5420</td>\n",
              "      <td>Defense League!</td>\n",
              "      <td>* * If the Sri Lankan Muslims ask who is your ...</td>\n",
              "      <td>Will answer you ......_ * Islam (Muslim) ..</td>\n",
              "      <td>3</td>\n",
              "      <td>3</td>\n",
              "      <td>none</td>\n",
              "      <td></td>\n",
              "    </tr>\n",
              "    <tr>\n",
              "      <th>596</th>\n",
              "      <td>12335</td>\n",
              "      <td>The car was also badly trapped in the theft ra...</td>\n",
              "      <td>Today the common housewife Ruminath is living ...</td>\n",
              "      <td>* What is their level *?</td>\n",
              "      <td>3</td>\n",
              "      <td>1</td>\n",
              "      <td>oppression</td>\n",
              "      <td></td>\n",
              "    </tr>\n",
              "    <tr>\n",
              "      <th>597</th>\n",
              "      <td>14404</td>\n",
              "      <td>On May 6, 1946, in his address to socialist ac...</td>\n",
              "      <td>In 1921 Gandhi, ignoring the opposition of nat...</td>\n",
              "      <td>Even then, in Mopala, Kerala, Muslims killed t...</td>\n",
              "      <td>3</td>\n",
              "      <td>3</td>\n",
              "      <td>none</td>\n",
              "      <td></td>\n",
              "    </tr>\n",
              "    <tr>\n",
              "      <th>598</th>\n",
              "      <td>2533</td>\n",
              "      <td>If your child is a boy, then the lady judge te...</td>\n",
              "      <td>However, flying starts with kiss or kiss on th...</td>\n",
              "      <td>Then there is the anchor, he jokes about the a...</td>\n",
              "      <td>3</td>\n",
              "      <td>3</td>\n",
              "      <td>none</td>\n",
              "      <td></td>\n",
              "    </tr>\n",
              "    <tr>\n",
              "      <th>599</th>\n",
              "      <td>607</td>\n",
              "      <td>In 1926, Swami Shraddhanandji, who was engaged...</td>\n",
              "      <td>Gandhi on one hand advised Hindu King Hari Sin...</td>\n",
              "      <td>Supported in Hyderabad.</td>\n",
              "      <td>3</td>\n",
              "      <td>3</td>\n",
              "      <td>none</td>\n",
              "      <td></td>\n",
              "    </tr>\n",
              "  </tbody>\n",
              "</table>\n",
              "<p>599 rows × 8 columns</p>\n",
              "</div>\n",
              "      <button class=\"colab-df-convert\" onclick=\"convertToInteractive('df-9ce52850-b2b7-4490-ade2-d15e3beb159b')\"\n",
              "              title=\"Convert this dataframe to an interactive table.\"\n",
              "              style=\"display:none;\">\n",
              "        \n",
              "  <svg xmlns=\"http://www.w3.org/2000/svg\" height=\"24px\"viewBox=\"0 0 24 24\"\n",
              "       width=\"24px\">\n",
              "    <path d=\"M0 0h24v24H0V0z\" fill=\"none\"/>\n",
              "    <path d=\"M18.56 5.44l.94 2.06.94-2.06 2.06-.94-2.06-.94-.94-2.06-.94 2.06-2.06.94zm-11 1L8.5 8.5l.94-2.06 2.06-.94-2.06-.94L8.5 2.5l-.94 2.06-2.06.94zm10 10l.94 2.06.94-2.06 2.06-.94-2.06-.94-.94-2.06-.94 2.06-2.06.94z\"/><path d=\"M17.41 7.96l-1.37-1.37c-.4-.4-.92-.59-1.43-.59-.52 0-1.04.2-1.43.59L10.3 9.45l-7.72 7.72c-.78.78-.78 2.05 0 2.83L4 21.41c.39.39.9.59 1.41.59.51 0 1.02-.2 1.41-.59l7.78-7.78 2.81-2.81c.8-.78.8-2.07 0-2.86zM5.41 20L4 18.59l7.72-7.72 1.47 1.35L5.41 20z\"/>\n",
              "  </svg>\n",
              "      </button>\n",
              "      \n",
              "  <style>\n",
              "    .colab-df-container {\n",
              "      display:flex;\n",
              "      flex-wrap:wrap;\n",
              "      gap: 12px;\n",
              "    }\n",
              "\n",
              "    .colab-df-convert {\n",
              "      background-color: #E8F0FE;\n",
              "      border: none;\n",
              "      border-radius: 50%;\n",
              "      cursor: pointer;\n",
              "      display: none;\n",
              "      fill: #1967D2;\n",
              "      height: 32px;\n",
              "      padding: 0 0 0 0;\n",
              "      width: 32px;\n",
              "    }\n",
              "\n",
              "    .colab-df-convert:hover {\n",
              "      background-color: #E2EBFA;\n",
              "      box-shadow: 0px 1px 2px rgba(60, 64, 67, 0.3), 0px 1px 3px 1px rgba(60, 64, 67, 0.15);\n",
              "      fill: #174EA6;\n",
              "    }\n",
              "\n",
              "    [theme=dark] .colab-df-convert {\n",
              "      background-color: #3B4455;\n",
              "      fill: #D2E3FC;\n",
              "    }\n",
              "\n",
              "    [theme=dark] .colab-df-convert:hover {\n",
              "      background-color: #434B5C;\n",
              "      box-shadow: 0px 1px 3px 1px rgba(0, 0, 0, 0.15);\n",
              "      filter: drop-shadow(0px 1px 2px rgba(0, 0, 0, 0.3));\n",
              "      fill: #FFFFFF;\n",
              "    }\n",
              "  </style>\n",
              "\n",
              "      <script>\n",
              "        const buttonEl =\n",
              "          document.querySelector('#df-9ce52850-b2b7-4490-ade2-d15e3beb159b button.colab-df-convert');\n",
              "        buttonEl.style.display =\n",
              "          google.colab.kernel.accessAllowed ? 'block' : 'none';\n",
              "\n",
              "        async function convertToInteractive(key) {\n",
              "          const element = document.querySelector('#df-9ce52850-b2b7-4490-ade2-d15e3beb159b');\n",
              "          const dataTable =\n",
              "            await google.colab.kernel.invokeFunction('convertToInteractive',\n",
              "                                                     [key], {});\n",
              "          if (!dataTable) return;\n",
              "\n",
              "          const docLinkHtml = 'Like what you see? Visit the ' +\n",
              "            '<a target=\"_blank\" href=https://colab.research.google.com/notebooks/data_table.ipynb>data table notebook</a>'\n",
              "            + ' to learn more about interactive tables.';\n",
              "          element.innerHTML = '';\n",
              "          dataTable['output_type'] = 'display_data';\n",
              "          await google.colab.output.renderOutput(dataTable, element);\n",
              "          const docLink = document.createElement('div');\n",
              "          docLink.innerHTML = docLinkHtml;\n",
              "          element.appendChild(docLink);\n",
              "        }\n",
              "      </script>\n",
              "    </div>\n",
              "  </div>\n",
              "  "
            ],
            "text/plain": [
              "0   index (matches with orig 25k sentences)  \\\n",
              "1                                     17110   \n",
              "2                                     19915   \n",
              "3                                     17972   \n",
              "4                                     12626   \n",
              "5                                     16108   \n",
              "..                                      ...   \n",
              "595                                    5420   \n",
              "596                                   12335   \n",
              "597                                   14404   \n",
              "598                                    2533   \n",
              "599                                     607   \n",
              "\n",
              "0                                               before  \\\n",
              "1    Mohan Sarpanch Hearing ji's voice, he kept qui...   \n",
              "2    This Islamic ideology calls for the killing of...   \n",
              "3    When the defeated ruler Daud Khan asked for wa...   \n",
              "4    You may remember that Mahmud Ghaznavi invaded ...   \n",
              "5    Therefore, the flag on the Red Fort will swing...   \n",
              "..                                                 ...   \n",
              "595                                    Defense League!   \n",
              "596  The car was also badly trapped in the theft ra...   \n",
              "597  On May 6, 1946, in his address to socialist ac...   \n",
              "598  If your child is a boy, then the lady judge te...   \n",
              "599  In 1926, Swami Shraddhanandji, who was engaged...   \n",
              "\n",
              "0                                             sentence  \\\n",
              "1                            Only two days were spent.   \n",
              "2    \"The truth is that Islam is not like other bel...   \n",
              "3    About Akbar's Chittor victory, Abul Fazl wrote...   \n",
              "4    Similarly, many Muslim invaders had come to In...   \n",
              "5    In the Arab countries, Hindu women should be s...   \n",
              "..                                                 ...   \n",
              "595  * * If the Sri Lankan Muslims ask who is your ...   \n",
              "596  Today the common housewife Ruminath is living ...   \n",
              "597  In 1921 Gandhi, ignoring the opposition of nat...   \n",
              "598  However, flying starts with kiss or kiss on th...   \n",
              "599  Gandhi on one hand advised Hindu King Hari Sin...   \n",
              "\n",
              "0                                                after Ganning  Vaibhav  \\\n",
              "1    Muslims from all the villages gathered and cam...       3        3   \n",
              "2    It is a religious version of fascist antagonis...       3        0   \n",
              "3    Along with them, after the victory from mornin...       1        1   \n",
              "4    \"Gajwa-e-Hind\" means conquering India and esta...       1        1   \n",
              "5    The girls of the poor and middle of the house ...       2        1   \n",
              "..                                                 ...     ...      ...   \n",
              "595        Will answer you ......_ * Islam (Muslim) ..       3        3   \n",
              "596                           * What is their level *?       3        1   \n",
              "597  Even then, in Mopala, Kerala, Muslims killed t...       3        3   \n",
              "598  Then there is the anchor, he jokes about the a...       3        3   \n",
              "599                            Supported in Hyderabad.       3        3   \n",
              "\n",
              "0         Final Comments  \n",
              "1          none           \n",
              "2       culture           \n",
              "3    oppression           \n",
              "4    oppression           \n",
              "5        action           \n",
              "..          ...      ...  \n",
              "595        none           \n",
              "596  oppression           \n",
              "597        none           \n",
              "598        none           \n",
              "599        none           \n",
              "\n",
              "[599 rows x 8 columns]"
            ]
          },
          "execution_count": 18,
          "metadata": {},
          "output_type": "execute_result"
        }
      ],
      "source": [
        "df_encoded = df_encoded[(df_encoded[\"Ganning\"] != \"\") & (df_encoded[\"Vaibhav\"] != \"\")]\n",
        "df_encoded"
      ]
    },
    {
      "cell_type": "code",
      "execution_count": null,
      "metadata": {
        "colab": {
          "base_uri": "https://localhost:8080/"
        },
        "id": "cIF-tSar0qum",
        "outputId": "51cfaa34-e5bf-446a-97d4-a4aee267dc87"
      },
      "outputs": [
        {
          "data": {
            "text/plain": [
              "[[0, 2, 0, 0],\n",
              " [2, 0, 0, 0],\n",
              " [0, 0, 2, 0],\n",
              " [0, 0, 0, 2],\n",
              " [0, 2, 0, 0],\n",
              " [0, 1, 1, 0],\n",
              " [0, 2, 0, 0],\n",
              " [2, 0, 0, 0],\n",
              " [0, 0, 1, 1],\n",
              " [0, 0, 0, 2],\n",
              " [0, 2, 0, 0],\n",
              " [0, 0, 0, 2],\n",
              " [0, 0, 0, 2],\n",
              " [0, 0, 0, 2],\n",
              " [1, 0, 0, 1],\n",
              " [0, 2, 0, 0],\n",
              " [0, 0, 0, 2],\n",
              " [0, 1, 0, 1],\n",
              " [0, 2, 0, 0],\n",
              " [1, 0, 1, 0],\n",
              " [0, 0, 2, 0],\n",
              " [0, 0, 0, 2],\n",
              " [0, 2, 0, 0],\n",
              " [0, 0, 0, 2],\n",
              " [0, 2, 0, 0],\n",
              " [0, 0, 0, 2],\n",
              " [0, 2, 0, 0],\n",
              " [0, 0, 0, 2],\n",
              " [0, 2, 0, 0],\n",
              " [0, 1, 0, 1],\n",
              " [0, 1, 0, 1],\n",
              " [1, 1, 0, 0],\n",
              " [0, 0, 0, 2],\n",
              " [0, 0, 0, 2],\n",
              " [0, 0, 0, 2],\n",
              " [0, 0, 0, 2],\n",
              " [2, 0, 0, 0],\n",
              " [2, 0, 0, 0],\n",
              " [0, 0, 0, 2],\n",
              " [1, 0, 0, 1],\n",
              " [0, 0, 0, 2],\n",
              " [0, 2, 0, 0],\n",
              " [1, 0, 0, 1],\n",
              " [0, 1, 0, 1],\n",
              " [1, 0, 0, 1],\n",
              " [0, 2, 0, 0],\n",
              " [0, 0, 2, 0],\n",
              " [0, 0, 0, 2],\n",
              " [0, 0, 0, 2],\n",
              " [0, 2, 0, 0],\n",
              " [0, 0, 0, 2],\n",
              " [0, 0, 0, 2],\n",
              " [0, 0, 1, 1],\n",
              " [0, 1, 0, 1],\n",
              " [0, 0, 0, 2],\n",
              " [0, 0, 0, 2],\n",
              " [0, 1, 0, 1],\n",
              " [0, 0, 0, 2],\n",
              " [0, 0, 2, 0],\n",
              " [0, 2, 0, 0],\n",
              " [0, 0, 0, 2],\n",
              " [0, 2, 0, 0],\n",
              " [0, 0, 0, 2],\n",
              " [0, 2, 0, 0],\n",
              " [0, 0, 0, 2],\n",
              " [0, 2, 0, 0],\n",
              " [0, 0, 0, 2],\n",
              " [0, 2, 0, 0],\n",
              " [0, 2, 0, 0],\n",
              " [0, 0, 0, 2],\n",
              " [0, 0, 0, 2],\n",
              " [0, 0, 0, 2],\n",
              " [0, 0, 0, 2],\n",
              " [0, 2, 0, 0],\n",
              " [0, 0, 0, 2],\n",
              " [0, 2, 0, 0],\n",
              " [0, 2, 0, 0],\n",
              " [0, 2, 0, 0],\n",
              " [2, 0, 0, 0],\n",
              " [1, 1, 0, 0],\n",
              " [0, 0, 0, 2],\n",
              " [0, 0, 0, 2],\n",
              " [0, 0, 0, 2],\n",
              " [0, 0, 0, 2],\n",
              " [0, 2, 0, 0],\n",
              " [1, 1, 0, 0],\n",
              " [0, 0, 0, 2],\n",
              " [2, 0, 0, 0],\n",
              " [0, 0, 0, 2],\n",
              " [0, 2, 0, 0],\n",
              " [0, 0, 0, 2],\n",
              " [0, 2, 0, 0],\n",
              " [0, 1, 1, 0],\n",
              " [0, 1, 0, 1],\n",
              " [0, 0, 0, 2],\n",
              " [0, 0, 0, 2],\n",
              " [0, 1, 0, 1],\n",
              " [0, 0, 0, 2],\n",
              " [0, 0, 0, 2],\n",
              " [0, 0, 0, 2]]"
            ]
          },
          "execution_count": 23,
          "metadata": {},
          "output_type": "execute_result"
        }
      ],
      "source": [
        "value_counts = []\n",
        "for i in range(500,600):\n",
        "    temp_array = [0, 0, 0, 0]\n",
        "    try:\n",
        "        temp_array[df_encoded[\"Ganning\"][i]] += 1\n",
        "        temp_array[df_encoded[\"Vaibhav\"][i]] += 1\n",
        "    except Exception as e:\n",
        "        continue\n",
        "    value_counts.append(temp_array)\n",
        "\n",
        "value_counts"
      ]
    },
    {
      "cell_type": "code",
      "execution_count": null,
      "metadata": {
        "colab": {
          "base_uri": "https://localhost:8080/"
        },
        "id": "zYx4YTXEv0On",
        "outputId": "9984a312-5eed-4ce1-c3b7-9036f384c069"
      },
      "outputs": [
        {
          "data": {
            "text/plain": [
              "0.6817031442975441"
            ]
          },
          "execution_count": 24,
          "metadata": {},
          "output_type": "execute_result"
        }
      ],
      "source": [
        "krippendorff.alpha(value_counts=value_counts)"
      ]
    },
    {
      "cell_type": "markdown",
      "metadata": {
        "id": "eYWB6V8rmBEx"
      },
      "source": [
        "## Fleiss Kappa"
      ]
    },
    {
      "cell_type": "code",
      "execution_count": null,
      "metadata": {
        "id": "YRdo3jv_3Dng"
      },
      "outputs": [],
      "source": [
        "from statsmodels.stats.inter_rater import (fleiss_kappa, cohens_kappa,\n",
        "                                           to_table, aggregate_raters)\n",
        "from statsmodels.tools.testing import Holder"
      ]
    },
    {
      "cell_type": "code",
      "execution_count": null,
      "metadata": {
        "colab": {
          "base_uri": "https://localhost:8080/"
        },
        "id": "c_3D-VI9nn0L",
        "outputId": "03bb0863-3aa4-4932-f6f4-547dac802ca3"
      },
      "outputs": [
        {
          "data": {
            "text/plain": [
              "0.5702524201574233"
            ]
          },
          "execution_count": 39,
          "metadata": {},
          "output_type": "execute_result"
        }
      ],
      "source": [
        "fleiss_kappa(value_counts) # works using the value counts from above"
      ]
    },
    {
      "cell_type": "code",
      "execution_count": null,
      "metadata": {
        "id": "tRICcfzypncR"
      },
      "outputs": [],
      "source": []
    }
  ],
  "metadata": {
    "colab": {
      "collapsed_sections": [],
      "provenance": []
    },
    "kernelspec": {
      "display_name": "Python 3.9.12 64-bit",
      "language": "python",
      "name": "python3"
    },
    "language_info": {
      "name": "python",
      "version": "3.9.12"
    },
    "vscode": {
      "interpreter": {
        "hash": "aee8b7b246df8f9039afb4144a1f6fd8d2ca17a180786b69acc140d282b71a49"
      }
    }
  },
  "nbformat": 4,
  "nbformat_minor": 0
}
